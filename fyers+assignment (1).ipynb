{
 "cells": [
  {
   "cell_type": "code",
   "execution_count": 1,
   "metadata": {},
   "outputs": [],
   "source": [
    "import pandas as pd"
   ]
  },
  {
   "cell_type": "code",
   "execution_count": 2,
   "metadata": {},
   "outputs": [],
   "source": [
    "df= pd.read_csv(\"airlines.csv\")"
   ]
  },
  {
   "cell_type": "code",
   "execution_count": 3,
   "metadata": {},
   "outputs": [
    {
     "data": {
      "text/html": [
       "<div>\n",
       "<style scoped>\n",
       "    .dataframe tbody tr th:only-of-type {\n",
       "        vertical-align: middle;\n",
       "    }\n",
       "\n",
       "    .dataframe tbody tr th {\n",
       "        vertical-align: top;\n",
       "    }\n",
       "\n",
       "    .dataframe thead th {\n",
       "        text-align: right;\n",
       "    }\n",
       "</style>\n",
       "<table border=\"1\" class=\"dataframe\">\n",
       "  <thead>\n",
       "    <tr style=\"text-align: right;\">\n",
       "      <th></th>\n",
       "      <th>Airport.Code</th>\n",
       "      <th>Airport.Name</th>\n",
       "      <th>Time.Year</th>\n",
       "      <th>Statistics.Flights.Cancelled</th>\n",
       "    </tr>\n",
       "  </thead>\n",
       "  <tbody>\n",
       "    <tr>\n",
       "      <th>0</th>\n",
       "      <td>ATL</td>\n",
       "      <td>Atlanta, GA: Hartsfield-Jackson Atlanta Intern...</td>\n",
       "      <td>2003</td>\n",
       "      <td>216</td>\n",
       "    </tr>\n",
       "    <tr>\n",
       "      <th>1</th>\n",
       "      <td>BOS</td>\n",
       "      <td>Boston, MA: Logan International</td>\n",
       "      <td>2003</td>\n",
       "      <td>138</td>\n",
       "    </tr>\n",
       "    <tr>\n",
       "      <th>2</th>\n",
       "      <td>BWI</td>\n",
       "      <td>Baltimore, MD: Baltimore/Washington Internatio...</td>\n",
       "      <td>2003</td>\n",
       "      <td>29</td>\n",
       "    </tr>\n",
       "    <tr>\n",
       "      <th>3</th>\n",
       "      <td>CLT</td>\n",
       "      <td>Charlotte, NC: Charlotte Douglas International</td>\n",
       "      <td>2003</td>\n",
       "      <td>73</td>\n",
       "    </tr>\n",
       "    <tr>\n",
       "      <th>4</th>\n",
       "      <td>DCA</td>\n",
       "      <td>Washington, DC: Ronald Reagan Washington National</td>\n",
       "      <td>2003</td>\n",
       "      <td>74</td>\n",
       "    </tr>\n",
       "  </tbody>\n",
       "</table>\n",
       "</div>"
      ],
      "text/plain": [
       "  Airport.Code                                       Airport.Name  Time.Year  \\\n",
       "0          ATL  Atlanta, GA: Hartsfield-Jackson Atlanta Intern...       2003   \n",
       "1          BOS                    Boston, MA: Logan International       2003   \n",
       "2          BWI  Baltimore, MD: Baltimore/Washington Internatio...       2003   \n",
       "3          CLT     Charlotte, NC: Charlotte Douglas International       2003   \n",
       "4          DCA  Washington, DC: Ronald Reagan Washington National       2003   \n",
       "\n",
       "   Statistics.Flights.Cancelled  \n",
       "0                           216  \n",
       "1                           138  \n",
       "2                            29  \n",
       "3                            73  \n",
       "4                            74  "
      ]
     },
     "execution_count": 3,
     "metadata": {},
     "output_type": "execute_result"
    }
   ],
   "source": [
    "df.head()"
   ]
  },
  {
   "cell_type": "code",
   "execution_count": 4,
   "metadata": {},
   "outputs": [
    {
     "data": {
      "text/plain": [
       "Index(['Airport.Code', 'Airport.Name', 'Time.Year',\n",
       "       'Statistics.Flights.Cancelled'],\n",
       "      dtype='object')"
      ]
     },
     "execution_count": 4,
     "metadata": {},
     "output_type": "execute_result"
    }
   ],
   "source": [
    "df.columns"
   ]
  },
  {
   "cell_type": "code",
   "execution_count": 27,
   "metadata": {
    "scrolled": true
   },
   "outputs": [
    {
     "data": {
      "text/plain": [
       "Atlanta, GA: Hartsfield-Jackson Atlanta International                  154\n",
       "New York, NY: LaGuardia                                                150\n",
       "Charlotte, NC: Charlotte Douglas International                         150\n",
       "Las Vegas, NV: McCarran International                                  150\n",
       "Miami, FL: Miami International                                         150\n",
       "Fort Lauderdale, FL: Fort Lauderdale-Hollywood International           150\n",
       "Orlando, FL: Orlando International                                     150\n",
       "New York, NY: John F. Kennedy International                            150\n",
       "Detroit, MI: Detroit Metro Wayne County                                150\n",
       "Chicago, IL: Chicago O'Hare International                              150\n",
       "Dallas/Fort Worth, TX: Dallas/Fort Worth International                 150\n",
       "Denver, CO: Denver International                                       150\n",
       "Washington, DC: Washington Dulles International                        150\n",
       "Chicago, IL: Chicago Midway International                              150\n",
       "Houston, TX: George Bush Intercontinental/Houston                      150\n",
       "Washington, DC: Ronald Reagan Washington National                      150\n",
       "Minneapolis, MN: Minneapolis-St Paul International                     150\n",
       "Boston, MA: Logan International                                        150\n",
       "Los Angeles, CA: Los Angeles International                             150\n",
       "Baltimore, MD: Baltimore/Washington International Thurgood Marshall    150\n",
       "Newark, NJ: Newark Liberty International                               150\n",
       "San Francisco, CA: San Francisco International                         149\n",
       "Tampa, FL: Tampa International                                         149\n",
       "Salt Lake City, UT: Salt Lake City International                       149\n",
       "Seattle, WA: Seattle/Tacoma International                              149\n",
       "San Diego, CA: San Diego International                                 149\n",
       "Portland, OR: Portland International                                   149\n",
       "Philadelphia, PA: Philadelphia International                           149\n",
       "Phoenix, AZ: Phoenix Sky Harbor International                          137\n",
       "Name: Airport.Name, dtype: int64"
      ]
     },
     "execution_count": 27,
     "metadata": {},
     "output_type": "execute_result"
    }
   ],
   "source": [
    "#output 1\n",
    "items = df['Airport.Name'].value_counts()\n",
    "items\n"
   ]
  },
  {
   "cell_type": "code",
   "execution_count": 23,
   "metadata": {},
   "outputs": [
    {
     "data": {
      "text/plain": [
       "'Atlanta, GA: Hartsfield-Jackson Atlanta International'"
      ]
     },
     "execution_count": 23,
     "metadata": {},
     "output_type": "execute_result"
    }
   ],
   "source": [
    "#output2\n",
    "maxitems1 = df['Airport.Name'].value_counts().idxmax()\n",
    "maxitems1"
   ]
  },
  {
   "cell_type": "code",
   "execution_count": 24,
   "metadata": {},
   "outputs": [
    {
     "data": {
      "text/plain": [
       "'Phoenix, AZ: Phoenix Sky Harbor International'"
      ]
     },
     "execution_count": 24,
     "metadata": {},
     "output_type": "execute_result"
    }
   ],
   "source": [
    "#output3\n",
    "minitems1 = df['Airport.Name'].value_counts().idxmin()\n",
    "minitems1"
   ]
  },
  {
   "cell_type": "code",
   "execution_count": null,
   "metadata": {},
   "outputs": [],
   "source": []
  }
 ],
 "metadata": {
  "kernelspec": {
   "display_name": "Python 3",
   "language": "python",
   "name": "python3"
  },
  "language_info": {
   "codemirror_mode": {
    "name": "ipython",
    "version": 3
   },
   "file_extension": ".py",
   "mimetype": "text/x-python",
   "name": "python",
   "nbconvert_exporter": "python",
   "pygments_lexer": "ipython3",
   "version": "3.7.1"
  }
 },
 "nbformat": 4,
 "nbformat_minor": 2
}
